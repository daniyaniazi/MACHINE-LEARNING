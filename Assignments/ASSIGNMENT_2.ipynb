{
 "cells": [
  {
   "cell_type": "markdown",
   "metadata": {},
   "source": [
    " <font color=\"b\"><h3 align=\"center\">ASSINGMENT NO : 2</h3></font> \n",
    " <font color=\"b\"><h3 align=\"center\">NAME : DANIYA</h3></font> "
   ]
  },
  {
   "cell_type": "markdown",
   "metadata": {},
   "source": [
    "\n",
    "<font color=\"b\"><h1 >Linear regression </h1></font>"
   ]
  },
  {
   "cell_type": "code",
   "execution_count": 2,
   "metadata": {},
   "outputs": [],
   "source": [
    "import pandas as pd\n",
    "import numpy as np\n",
    "from sklearn import linear_model\n",
    "#from sklearn.linear_model import LinearRegression\n",
    "import matplotlib.pyplot as plt"
   ]
  },
  {
   "cell_type": "code",
   "execution_count": 3,
   "metadata": {},
   "outputs": [
    {
     "data": {
      "text/html": [
       "<div>\n",
       "<style scoped>\n",
       "    .dataframe tbody tr th:only-of-type {\n",
       "        vertical-align: middle;\n",
       "    }\n",
       "\n",
       "    .dataframe tbody tr th {\n",
       "        vertical-align: top;\n",
       "    }\n",
       "\n",
       "    .dataframe thead th {\n",
       "        text-align: right;\n",
       "    }\n",
       "</style>\n",
       "<table border=\"1\" class=\"dataframe\">\n",
       "  <thead>\n",
       "    <tr style=\"text-align: right;\">\n",
       "      <th></th>\n",
       "      <th>Gender</th>\n",
       "      <th>Age Range</th>\n",
       "      <th>Head Size(cm^3)</th>\n",
       "      <th>Brain Weight(grams)</th>\n",
       "    </tr>\n",
       "  </thead>\n",
       "  <tbody>\n",
       "    <tr>\n",
       "      <td>0</td>\n",
       "      <td>1</td>\n",
       "      <td>1</td>\n",
       "      <td>4512</td>\n",
       "      <td>1530</td>\n",
       "    </tr>\n",
       "    <tr>\n",
       "      <td>1</td>\n",
       "      <td>1</td>\n",
       "      <td>1</td>\n",
       "      <td>3738</td>\n",
       "      <td>1297</td>\n",
       "    </tr>\n",
       "    <tr>\n",
       "      <td>2</td>\n",
       "      <td>1</td>\n",
       "      <td>1</td>\n",
       "      <td>4261</td>\n",
       "      <td>1335</td>\n",
       "    </tr>\n",
       "  </tbody>\n",
       "</table>\n",
       "</div>"
      ],
      "text/plain": [
       "   Gender  Age Range  Head Size(cm^3)  Brain Weight(grams)\n",
       "0       1          1             4512                 1530\n",
       "1       1          1             3738                 1297\n",
       "2       1          1             4261                 1335"
      ]
     },
     "execution_count": 3,
     "metadata": {},
     "output_type": "execute_result"
    }
   ],
   "source": [
    "df = pd.read_csv('dataset.csv')\n",
    "df.head(3)"
   ]
  },
  {
   "cell_type": "code",
   "execution_count": 4,
   "metadata": {},
   "outputs": [
    {
     "data": {
      "text/plain": [
       "array([[4512],\n",
       "       [3738],\n",
       "       [4261],\n",
       "       [3777],\n",
       "       [4177],\n",
       "       [3585],\n",
       "       [3785],\n",
       "       [3559],\n",
       "       [3613],\n",
       "       [3982],\n",
       "       [3443],\n",
       "       [3993],\n",
       "       [3640],\n",
       "       [4208],\n",
       "       [3832],\n",
       "       [3876],\n",
       "       [3497],\n",
       "       [3466],\n",
       "       [3095],\n",
       "       [4424],\n",
       "       [3878],\n",
       "       [4046],\n",
       "       [3804],\n",
       "       [3710],\n",
       "       [4747],\n",
       "       [4423],\n",
       "       [4036],\n",
       "       [4022],\n",
       "       [3454],\n",
       "       [4175],\n",
       "       [3787],\n",
       "       [3796],\n",
       "       [4103],\n",
       "       [4161],\n",
       "       [4158],\n",
       "       [3814],\n",
       "       [3527],\n",
       "       [3748],\n",
       "       [3334],\n",
       "       [3492],\n",
       "       [3962],\n",
       "       [3505],\n",
       "       [4315],\n",
       "       [3804],\n",
       "       [3863],\n",
       "       [4034],\n",
       "       [4308],\n",
       "       [3165],\n",
       "       [3641],\n",
       "       [3644],\n",
       "       [3891],\n",
       "       [3793],\n",
       "       [4270],\n",
       "       [4063],\n",
       "       [4012],\n",
       "       [3458],\n",
       "       [3890],\n",
       "       [4166],\n",
       "       [3935],\n",
       "       [3669],\n",
       "       [3866],\n",
       "       [3393],\n",
       "       [4442],\n",
       "       [4253],\n",
       "       [3727],\n",
       "       [3329],\n",
       "       [3415],\n",
       "       [3372],\n",
       "       [4430],\n",
       "       [4381],\n",
       "       [4008],\n",
       "       [3858],\n",
       "       [4121],\n",
       "       [4057],\n",
       "       [3824],\n",
       "       [3394],\n",
       "       [3558],\n",
       "       [3362],\n",
       "       [3930],\n",
       "       [3835],\n",
       "       [3830],\n",
       "       [3856],\n",
       "       [3249],\n",
       "       [3577],\n",
       "       [3933],\n",
       "       [3850],\n",
       "       [3309],\n",
       "       [3406],\n",
       "       [3506],\n",
       "       [3907],\n",
       "       [4160],\n",
       "       [3318],\n",
       "       [3662],\n",
       "       [3899],\n",
       "       [3700],\n",
       "       [3779],\n",
       "       [3473],\n",
       "       [3490],\n",
       "       [3654],\n",
       "       [3478],\n",
       "       [3495],\n",
       "       [3834],\n",
       "       [3876],\n",
       "       [3661],\n",
       "       [3618],\n",
       "       [3648],\n",
       "       [4032],\n",
       "       [3399],\n",
       "       [3916],\n",
       "       [4430],\n",
       "       [3695],\n",
       "       [3524],\n",
       "       [3571],\n",
       "       [3594],\n",
       "       [3383],\n",
       "       [3499],\n",
       "       [3589],\n",
       "       [3900],\n",
       "       [4114],\n",
       "       [3937],\n",
       "       [3399],\n",
       "       [4200],\n",
       "       [4488],\n",
       "       [3614],\n",
       "       [4051],\n",
       "       [3782],\n",
       "       [3391],\n",
       "       [3124],\n",
       "       [4053],\n",
       "       [3582],\n",
       "       [3666],\n",
       "       [3532],\n",
       "       [4046],\n",
       "       [3667],\n",
       "       [2857],\n",
       "       [3436],\n",
       "       [3791],\n",
       "       [3302],\n",
       "       [3104],\n",
       "       [3171],\n",
       "       [3572],\n",
       "       [3530],\n",
       "       [3175],\n",
       "       [3438],\n",
       "       [3903],\n",
       "       [3899],\n",
       "       [3401],\n",
       "       [3267],\n",
       "       [3451],\n",
       "       [3090],\n",
       "       [3413],\n",
       "       [3323],\n",
       "       [3680],\n",
       "       [3439],\n",
       "       [3853],\n",
       "       [3156],\n",
       "       [3279],\n",
       "       [3707],\n",
       "       [4006],\n",
       "       [3269],\n",
       "       [3071],\n",
       "       [3779],\n",
       "       [3548],\n",
       "       [3292],\n",
       "       [3497],\n",
       "       [3082],\n",
       "       [3248],\n",
       "       [3358],\n",
       "       [3803],\n",
       "       [3566],\n",
       "       [3145],\n",
       "       [3503],\n",
       "       [3571],\n",
       "       [3724],\n",
       "       [3615],\n",
       "       [3203],\n",
       "       [3609],\n",
       "       [3561],\n",
       "       [3979],\n",
       "       [3533],\n",
       "       [3689],\n",
       "       [3158],\n",
       "       [4005],\n",
       "       [3181],\n",
       "       [3479],\n",
       "       [3642],\n",
       "       [3632],\n",
       "       [3069],\n",
       "       [3394],\n",
       "       [3703],\n",
       "       [3165],\n",
       "       [3354],\n",
       "       [3000],\n",
       "       [3687],\n",
       "       [3556],\n",
       "       [2773],\n",
       "       [3058],\n",
       "       [3344],\n",
       "       [3493],\n",
       "       [3297],\n",
       "       [3360],\n",
       "       [3228],\n",
       "       [3277],\n",
       "       [3851],\n",
       "       [3067],\n",
       "       [3692],\n",
       "       [3402],\n",
       "       [3995],\n",
       "       [3318],\n",
       "       [2720],\n",
       "       [2937],\n",
       "       [3580],\n",
       "       [2939],\n",
       "       [2989],\n",
       "       [3586],\n",
       "       [3156],\n",
       "       [3246],\n",
       "       [3170],\n",
       "       [3268],\n",
       "       [3389],\n",
       "       [3381],\n",
       "       [2864],\n",
       "       [3740],\n",
       "       [3479],\n",
       "       [3647],\n",
       "       [3716],\n",
       "       [3284],\n",
       "       [4204],\n",
       "       [3735],\n",
       "       [3218],\n",
       "       [3685],\n",
       "       [3704],\n",
       "       [3214],\n",
       "       [3394],\n",
       "       [3233],\n",
       "       [3352],\n",
       "       [3391]], dtype=int64)"
      ]
     },
     "execution_count": 4,
     "metadata": {},
     "output_type": "execute_result"
    }
   ],
   "source": [
    "x = df.iloc[:, 2:-1].values\n",
    "x\n"
   ]
  },
  {
   "cell_type": "code",
   "execution_count": 5,
   "metadata": {},
   "outputs": [
    {
     "data": {
      "text/plain": [
       "array([[1530],\n",
       "       [1297],\n",
       "       [1335],\n",
       "       [1282],\n",
       "       [1590],\n",
       "       [1300],\n",
       "       [1400],\n",
       "       [1255],\n",
       "       [1355],\n",
       "       [1375],\n",
       "       [1340],\n",
       "       [1380],\n",
       "       [1355],\n",
       "       [1522],\n",
       "       [1208],\n",
       "       [1405],\n",
       "       [1358],\n",
       "       [1292],\n",
       "       [1340],\n",
       "       [1400],\n",
       "       [1357],\n",
       "       [1287],\n",
       "       [1275],\n",
       "       [1270],\n",
       "       [1635],\n",
       "       [1505],\n",
       "       [1490],\n",
       "       [1485],\n",
       "       [1310],\n",
       "       [1420],\n",
       "       [1318],\n",
       "       [1432],\n",
       "       [1364],\n",
       "       [1405],\n",
       "       [1432],\n",
       "       [1207],\n",
       "       [1375],\n",
       "       [1350],\n",
       "       [1236],\n",
       "       [1250],\n",
       "       [1350],\n",
       "       [1320],\n",
       "       [1525],\n",
       "       [1570],\n",
       "       [1340],\n",
       "       [1422],\n",
       "       [1506],\n",
       "       [1215],\n",
       "       [1311],\n",
       "       [1300],\n",
       "       [1224],\n",
       "       [1350],\n",
       "       [1335],\n",
       "       [1390],\n",
       "       [1400],\n",
       "       [1225],\n",
       "       [1310],\n",
       "       [1560],\n",
       "       [1330],\n",
       "       [1222],\n",
       "       [1415],\n",
       "       [1175],\n",
       "       [1330],\n",
       "       [1485],\n",
       "       [1470],\n",
       "       [1135],\n",
       "       [1310],\n",
       "       [1154],\n",
       "       [1510],\n",
       "       [1415],\n",
       "       [1468],\n",
       "       [1390],\n",
       "       [1380],\n",
       "       [1432],\n",
       "       [1240],\n",
       "       [1195],\n",
       "       [1225],\n",
       "       [1188],\n",
       "       [1252],\n",
       "       [1315],\n",
       "       [1245],\n",
       "       [1430],\n",
       "       [1279],\n",
       "       [1245],\n",
       "       [1309],\n",
       "       [1412],\n",
       "       [1120],\n",
       "       [1220],\n",
       "       [1280],\n",
       "       [1440],\n",
       "       [1370],\n",
       "       [1192],\n",
       "       [1230],\n",
       "       [1346],\n",
       "       [1290],\n",
       "       [1165],\n",
       "       [1240],\n",
       "       [1132],\n",
       "       [1242],\n",
       "       [1270],\n",
       "       [1218],\n",
       "       [1430],\n",
       "       [1588],\n",
       "       [1320],\n",
       "       [1290],\n",
       "       [1260],\n",
       "       [1425],\n",
       "       [1226],\n",
       "       [1360],\n",
       "       [1620],\n",
       "       [1310],\n",
       "       [1250],\n",
       "       [1295],\n",
       "       [1290],\n",
       "       [1290],\n",
       "       [1275],\n",
       "       [1250],\n",
       "       [1270],\n",
       "       [1362],\n",
       "       [1300],\n",
       "       [1173],\n",
       "       [1256],\n",
       "       [1440],\n",
       "       [1180],\n",
       "       [1306],\n",
       "       [1350],\n",
       "       [1125],\n",
       "       [1165],\n",
       "       [1312],\n",
       "       [1300],\n",
       "       [1270],\n",
       "       [1335],\n",
       "       [1450],\n",
       "       [1310],\n",
       "       [1027],\n",
       "       [1235],\n",
       "       [1260],\n",
       "       [1165],\n",
       "       [1080],\n",
       "       [1127],\n",
       "       [1270],\n",
       "       [1252],\n",
       "       [1200],\n",
       "       [1290],\n",
       "       [1334],\n",
       "       [1380],\n",
       "       [1140],\n",
       "       [1243],\n",
       "       [1340],\n",
       "       [1168],\n",
       "       [1322],\n",
       "       [1249],\n",
       "       [1321],\n",
       "       [1192],\n",
       "       [1373],\n",
       "       [1170],\n",
       "       [1265],\n",
       "       [1235],\n",
       "       [1302],\n",
       "       [1241],\n",
       "       [1078],\n",
       "       [1520],\n",
       "       [1460],\n",
       "       [1075],\n",
       "       [1280],\n",
       "       [1180],\n",
       "       [1250],\n",
       "       [1190],\n",
       "       [1374],\n",
       "       [1306],\n",
       "       [1202],\n",
       "       [1240],\n",
       "       [1316],\n",
       "       [1280],\n",
       "       [1350],\n",
       "       [1180],\n",
       "       [1210],\n",
       "       [1127],\n",
       "       [1324],\n",
       "       [1210],\n",
       "       [1290],\n",
       "       [1100],\n",
       "       [1280],\n",
       "       [1175],\n",
       "       [1160],\n",
       "       [1205],\n",
       "       [1163],\n",
       "       [1022],\n",
       "       [1243],\n",
       "       [1350],\n",
       "       [1237],\n",
       "       [1204],\n",
       "       [1090],\n",
       "       [1355],\n",
       "       [1250],\n",
       "       [1076],\n",
       "       [1120],\n",
       "       [1220],\n",
       "       [1240],\n",
       "       [1220],\n",
       "       [1095],\n",
       "       [1235],\n",
       "       [1105],\n",
       "       [1405],\n",
       "       [1150],\n",
       "       [1305],\n",
       "       [1220],\n",
       "       [1296],\n",
       "       [1175],\n",
       "       [ 955],\n",
       "       [1070],\n",
       "       [1320],\n",
       "       [1060],\n",
       "       [1130],\n",
       "       [1250],\n",
       "       [1225],\n",
       "       [1180],\n",
       "       [1178],\n",
       "       [1142],\n",
       "       [1130],\n",
       "       [1185],\n",
       "       [1012],\n",
       "       [1280],\n",
       "       [1103],\n",
       "       [1408],\n",
       "       [1300],\n",
       "       [1246],\n",
       "       [1380],\n",
       "       [1350],\n",
       "       [1060],\n",
       "       [1350],\n",
       "       [1220],\n",
       "       [1110],\n",
       "       [1215],\n",
       "       [1104],\n",
       "       [1170],\n",
       "       [1120]], dtype=int64)"
      ]
     },
     "execution_count": 5,
     "metadata": {},
     "output_type": "execute_result"
    }
   ],
   "source": [
    "y = df.iloc[:, 3:].values\n",
    "y"
   ]
  },
  {
   "cell_type": "markdown",
   "metadata": {},
   "source": [
    "<font color=\"purple\"><h3 >Fit the Simple Linear Regression Model </h3></font>"
   ]
  },
  {
   "cell_type": "code",
   "execution_count": 6,
   "metadata": {},
   "outputs": [
    {
     "data": {
      "text/plain": [
       "LinearRegression(copy_X=True, fit_intercept=True, n_jobs=None, normalize=False)"
      ]
     },
     "execution_count": 6,
     "metadata": {},
     "output_type": "execute_result"
    }
   ],
   "source": [
    "#Fit the Simple Linear Regression Model\n",
    "lin_reg =LinearRegression()\n",
    "lin_reg.fit(x,y)"
   ]
  },
  {
   "cell_type": "markdown",
   "metadata": {},
   "source": [
    "<font color=\"purple\"><h3 >Visualise the Linear Regression Result </h3></font>"
   ]
  },
  {
   "cell_type": "code",
   "execution_count": 7,
   "metadata": {
    "scrolled": true
   },
   "outputs": [
    {
     "data": {
      "text/plain": [
       "[<matplotlib.lines.Line2D at 0x24d88259fc8>]"
      ]
     },
     "execution_count": 7,
     "metadata": {},
     "output_type": "execute_result"
    },
    {
     "data": {
      "image/png": "[encoded data removed]",
      "text/plain": [
       "<Figure size 432x288 with 1 Axes>"
      ]
     },
     "metadata": {
      "needs_background": "light"
     },
     "output_type": "display_data"
    }
   ],
   "source": [
    "# Visualise the Linear Regression Result\n",
    "%matplotlib inline\n",
    "plt.title(\"Linear Regreesion\", fontsize = 14)\n",
    "plt.xlabel('headsize', fontsize = 12)\n",
    "plt.ylabel('brain weight',fontsize = 12)\n",
    "plt.scatter(x,y,color='red',marker='o')\n",
    "plt.plot(x,lin_reg.predict(x),color=\"blue\")"
   ]
  },
  {
   "cell_type": "code",
   "execution_count": 8,
   "metadata": {},
   "outputs": [
    {
     "data": {
      "text/plain": [
       "array([[1490.98481895]])"
      ]
     },
     "execution_count": 8,
     "metadata": {},
     "output_type": "execute_result"
    }
   ],
   "source": [
    "lin_reg.predict([[4424]])"
   ]
  },
  {
   "cell_type": "markdown",
   "metadata": {},
   "source": [
    "\n",
    "<font color=\"b\"><h1 >Polynomial regression </h1></font>"
   ]
  },
  {
   "cell_type": "markdown",
   "metadata": {},
   "source": [
    "<font color=\"purple\"><h3 >Add the polynomial term to the equation/model </h3></font>"
   ]
  },
  {
   "cell_type": "code",
   "execution_count": 16,
   "metadata": {},
   "outputs": [
    {
     "data": {
      "text/plain": [
       "array([[1.00000000e+00, 4.51200000e+03, 2.03581440e+07, ...,\n",
       "        1.87001657e+18, 8.43751477e+21, 3.80700666e+25],\n",
       "       [1.00000000e+00, 3.73800000e+03, 1.39726440e+07, ...,\n",
       "        7.29787609e+17, 2.72794608e+21, 1.01970625e+25],\n",
       "       [1.00000000e+00, 4.26100000e+03, 1.81561210e+07, ...,\n",
       "        1.40461619e+18, 5.98506960e+21, 2.55023816e+25],\n",
       "       ...,\n",
       "       [1.00000000e+00, 3.23300000e+03, 1.04522890e+07, ...,\n",
       "        3.53206366e+17, 1.14191618e+21, 3.69181502e+24],\n",
       "       [1.00000000e+00, 3.35200000e+03, 1.12359040e+07, ...,\n",
       "        4.23175046e+17, 1.41848275e+21, 4.75475419e+24],\n",
       "       [1.00000000e+00, 3.39100000e+03, 1.14988810e+07, ...,\n",
       "        4.48372480e+17, 1.52043108e+21, 5.15578179e+24]])"
      ]
     },
     "execution_count": 16,
     "metadata": {},
     "output_type": "execute_result"
    }
   ],
   "source": [
    "# Add the polynomial term to the equation/model\n",
    "from sklearn.preprocessing import PolynomialFeatures \n",
    "  \n",
    "polynom = PolynomialFeatures(degree = 7) \n",
    "x_polynom = polynom.fit_transform(x) \n",
    "#polynom.fit(x_polynom,y)\n",
    "x_polynom"
   ]
  },
  {
   "cell_type": "markdown",
   "metadata": {},
   "source": [
    "<font color=\"purple\"><h3 >Fit the Polynomial Regression Model  </h3></font>"
   ]
  },
  {
   "cell_type": "code",
   "execution_count": 17,
   "metadata": {},
   "outputs": [
    {
     "data": {
      "text/plain": [
       "LinearRegression(copy_X=True, fit_intercept=True, n_jobs=None, normalize=False)"
      ]
     },
     "execution_count": 17,
     "metadata": {},
     "output_type": "execute_result"
    }
   ],
   "source": [
    "#Fit the Polynomial Regression Model \n",
    "PolyReg = LinearRegression() \n",
    "PolyReg.fit(x_polynom, y)"
   ]
  },
  {
   "cell_type": "markdown",
   "metadata": {},
   "source": [
    "<font color=\"purple\"><h3 >Visualise the Polynomial Regression Results  </h3></font>"
   ]
  },
  {
   "cell_type": "code",
   "execution_count": 22,
   "metadata": {},
   "outputs": [
    {
     "data": {
      "image/png": "[encoded data removed]",
      "text/plain": [
       "<Figure size 432x288 with 1 Axes>"
      ]
     },
     "metadata": {
      "needs_background": "light"
     },
     "output_type": "display_data"
    }
   ],
   "source": [
    "# Visualise the Polynomial Regression Results \n",
    "plt.scatter(x, y ,color = 'b') \n",
    "  \n",
    "plt.plot(x, PolyReg.predict(polynom.fit_transform(x)), color = 'r') \n",
    "plt.title('Polynomial Regression', fontsize = 14) \n",
    "plt.xlabel('head size' ,fontsize = 12) \n",
    "plt.ylabel('brain weight' , fontsize = 12) \n",
    "  \n",
    "plt.show() "
   ]
  },
  {
   "cell_type": "markdown",
   "metadata": {},
   "source": [
    "<font color=\"purple\"><h3 > Visualising the Polynomial Regression results (for higher resolution and smoother curve) </h3></font>"
   ]
  },
  {
   "cell_type": "code",
   "execution_count": 24,
   "metadata": {},
   "outputs": [
    {
     "data": {
      "image/png": "[encoded data removed]",
      "text/plain": [
       "<Figure size 432x288 with 1 Axes>"
      ]
     },
     "metadata": {
      "needs_background": "light"
     },
     "output_type": "display_data"
    }
   ],
   "source": [
    "# Visualising the Polynomial Regression results (for higher resolution and smoother curve)\n",
    "X_grid = np.arange(min(x), max(x), 0.1)\n",
    "X_grid = X_grid.reshape((len(X_grid), 1))\n",
    "plt.scatter(x, y, color = 'b')\n",
    "plt.plot(X_grid, PolyReg.predict(polynom.fit_transform(X_grid)), color = 'r')\n",
    "plt.title('Polynomial Regression', fontsize = 14) \n",
    "plt.xlabel('head size', fontsize = 12) \n",
    "plt.ylabel('brain weight', fontsize = 12) \n",
    "  \n",
    "plt.show()"
   ]
  },
  {
   "cell_type": "code",
   "execution_count": 15,
   "metadata": {},
   "outputs": [
    {
     "data": {
      "text/plain": [
       "array([[1473.93424811]])"
      ]
     },
     "execution_count": 15,
     "metadata": {},
     "output_type": "execute_result"
    }
   ],
   "source": [
    "PolyReg.predict(polynom.fit_transform([[4424]]))"
   ]
  },
  {
   "cell_type": "code",
   "execution_count": null,
   "metadata": {},
   "outputs": [],
   "source": []
  }
 ],
 "metadata": {
  "kernelspec": {
   "display_name": "Python 3",
   "language": "python",
   "name": "python3"
  },
  "language_info": {
   "codemirror_mode": {
    "name": "ipython",
    "version": 3
   },
   "file_extension": ".py",
   "mimetype": "text/x-python",
   "name": "python",
   "nbconvert_exporter": "python",
   "pygments_lexer": "ipython3",
   "version": "3.7.4"
  }
 },
 "nbformat": 4,
 "nbformat_minor": 2
}
