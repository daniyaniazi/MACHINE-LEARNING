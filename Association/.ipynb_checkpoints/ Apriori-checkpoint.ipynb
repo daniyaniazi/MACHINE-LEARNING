{
 "cells": [
  {
   "cell_type": "markdown",
   "metadata": {},
   "source": [
    "# Association \n",
    "![image](Association.png)\n",
    "\n",
    "- rule based Ml Method\n",
    "- invlove discovering of relationship between 2 variable\n",
    "- Association represent an interesting fact between 2 products in Market Analysis"
   ]
  },
  {
   "cell_type": "markdown",
   "metadata": {},
   "source": [
    "## Association Algorithm\n",
    "- Apriori Algorithm\n",
    "- Eclat Algorithm\n",
    "- FP-growth algorithm\n",
    "### Apriori Algorithm\n",
    "- classical \n",
    "- minning \n",
    "- used to handle large no of transactions\n",
    "##### Apriori Componets\n",
    "![image](params.PNG)\n",
    "- <b> Support </b> : \n",
    "    - Default popularity of any item\n",
    "    - support(movie1) = Transaction involving movei 1 / Total transaction\n",
    "- <b> Confidence </b> :\n",
    "    - Liklihood that the customer bought both movie 1 and movie 2 tickets\n",
    "    - Confidence =Transaction involving both movie 1 and 2 /Transaction involving movie 1\n",
    "- <b> lift </b> : \n",
    "    - lift : (confidence(m1->m2)/support(m1)"
   ]
  },
  {
   "cell_type": "code",
   "execution_count": null,
   "metadata": {},
   "outputs": [],
   "source": []
  }
 ],
 "metadata": {
  "kernelspec": {
   "display_name": "Python 3",
   "language": "python",
   "name": "python3"
  },
  "language_info": {
   "codemirror_mode": {
    "name": "ipython",
    "version": 3
   },
   "file_extension": ".py",
   "mimetype": "text/x-python",
   "name": "python",
   "nbconvert_exporter": "python",
   "pygments_lexer": "ipython3",
   "version": "3.7.4"
  }
 },
 "nbformat": 4,
 "nbformat_minor": 2
}
