{
 "cells": [
  {
   "cell_type": "code",
   "execution_count": 1,
   "metadata": {},
   "outputs": [],
   "source": [
    "import pandas as pd\n",
    "import numpy as np\n",
    "from sklearn.metrics import mean_squared_error,r2_score"
   ]
  },
  {
   "cell_type": "markdown",
   "metadata": {},
   "source": [
    "# IMPORTING DATASET"
   ]
  },
  {
   "cell_type": "code",
   "execution_count": 2,
   "metadata": {},
   "outputs": [
    {
     "data": {
      "text/html": [
       "<div>\n",
       "<style scoped>\n",
       "    .dataframe tbody tr th:only-of-type {\n",
       "        vertical-align: middle;\n",
       "    }\n",
       "\n",
       "    .dataframe tbody tr th {\n",
       "        vertical-align: top;\n",
       "    }\n",
       "\n",
       "    .dataframe thead th {\n",
       "        text-align: right;\n",
       "    }\n",
       "</style>\n",
       "<table border=\"1\" class=\"dataframe\">\n",
       "  <thead>\n",
       "    <tr style=\"text-align: right;\">\n",
       "      <th></th>\n",
       "      <th>Source</th>\n",
       "      <th>Year</th>\n",
       "      <th>Mean</th>\n",
       "    </tr>\n",
       "  </thead>\n",
       "  <tbody>\n",
       "    <tr>\n",
       "      <td>0</td>\n",
       "      <td>GCAG</td>\n",
       "      <td>2015</td>\n",
       "      <td>0.8990</td>\n",
       "    </tr>\n",
       "    <tr>\n",
       "      <td>1</td>\n",
       "      <td>GISTEMP</td>\n",
       "      <td>2015</td>\n",
       "      <td>0.8700</td>\n",
       "    </tr>\n",
       "    <tr>\n",
       "      <td>2</td>\n",
       "      <td>GCAG</td>\n",
       "      <td>2014</td>\n",
       "      <td>0.7402</td>\n",
       "    </tr>\n",
       "    <tr>\n",
       "      <td>3</td>\n",
       "      <td>GISTEMP</td>\n",
       "      <td>2014</td>\n",
       "      <td>0.7500</td>\n",
       "    </tr>\n",
       "    <tr>\n",
       "      <td>4</td>\n",
       "      <td>GCAG</td>\n",
       "      <td>2013</td>\n",
       "      <td>0.6687</td>\n",
       "    </tr>\n",
       "    <tr>\n",
       "      <td>...</td>\n",
       "      <td>...</td>\n",
       "      <td>...</td>\n",
       "      <td>...</td>\n",
       "    </tr>\n",
       "    <tr>\n",
       "      <td>267</td>\n",
       "      <td>GISTEMP</td>\n",
       "      <td>1882</td>\n",
       "      <td>-0.1000</td>\n",
       "    </tr>\n",
       "    <tr>\n",
       "      <td>268</td>\n",
       "      <td>GCAG</td>\n",
       "      <td>1881</td>\n",
       "      <td>-0.0707</td>\n",
       "    </tr>\n",
       "    <tr>\n",
       "      <td>269</td>\n",
       "      <td>GISTEMP</td>\n",
       "      <td>1881</td>\n",
       "      <td>-0.1200</td>\n",
       "    </tr>\n",
       "    <tr>\n",
       "      <td>270</td>\n",
       "      <td>GCAG</td>\n",
       "      <td>1880</td>\n",
       "      <td>-0.1247</td>\n",
       "    </tr>\n",
       "    <tr>\n",
       "      <td>271</td>\n",
       "      <td>GISTEMP</td>\n",
       "      <td>1880</td>\n",
       "      <td>-0.2000</td>\n",
       "    </tr>\n",
       "  </tbody>\n",
       "</table>\n",
       "<p>272 rows × 3 columns</p>\n",
       "</div>"
      ],
      "text/plain": [
       "      Source  Year    Mean\n",
       "0       GCAG  2015  0.8990\n",
       "1    GISTEMP  2015  0.8700\n",
       "2       GCAG  2014  0.7402\n",
       "3    GISTEMP  2014  0.7500\n",
       "4       GCAG  2013  0.6687\n",
       "..       ...   ...     ...\n",
       "267  GISTEMP  1882 -0.1000\n",
       "268     GCAG  1881 -0.0707\n",
       "269  GISTEMP  1881 -0.1200\n",
       "270     GCAG  1880 -0.1247\n",
       "271  GISTEMP  1880 -0.2000\n",
       "\n",
       "[272 rows x 3 columns]"
      ]
     },
     "execution_count": 2,
     "metadata": {},
     "output_type": "execute_result"
    }
   ],
   "source": [
    "dataset = pd.read_csv('annual_temp.csv')\n",
    "dataset"
   ]
  },
  {
   "cell_type": "code",
   "execution_count": 3,
   "metadata": {},
   "outputs": [
    {
     "data": {
      "text/html": [
       "<div>\n",
       "<style scoped>\n",
       "    .dataframe tbody tr th:only-of-type {\n",
       "        vertical-align: middle;\n",
       "    }\n",
       "\n",
       "    .dataframe tbody tr th {\n",
       "        vertical-align: top;\n",
       "    }\n",
       "\n",
       "    .dataframe thead th {\n",
       "        text-align: right;\n",
       "    }\n",
       "</style>\n",
       "<table border=\"1\" class=\"dataframe\">\n",
       "  <thead>\n",
       "    <tr style=\"text-align: right;\">\n",
       "      <th></th>\n",
       "      <th>Year</th>\n",
       "      <th>Mean</th>\n",
       "    </tr>\n",
       "    <tr>\n",
       "      <th>Source</th>\n",
       "      <th></th>\n",
       "      <th></th>\n",
       "    </tr>\n",
       "  </thead>\n",
       "  <tbody>\n",
       "    <tr>\n",
       "      <td>GCAG</td>\n",
       "      <td>2015</td>\n",
       "      <td>0.8990</td>\n",
       "    </tr>\n",
       "    <tr>\n",
       "      <td>GISTEMP</td>\n",
       "      <td>2015</td>\n",
       "      <td>0.8700</td>\n",
       "    </tr>\n",
       "    <tr>\n",
       "      <td>GCAG</td>\n",
       "      <td>2014</td>\n",
       "      <td>0.7402</td>\n",
       "    </tr>\n",
       "    <tr>\n",
       "      <td>GISTEMP</td>\n",
       "      <td>2014</td>\n",
       "      <td>0.7500</td>\n",
       "    </tr>\n",
       "    <tr>\n",
       "      <td>GCAG</td>\n",
       "      <td>2013</td>\n",
       "      <td>0.6687</td>\n",
       "    </tr>\n",
       "    <tr>\n",
       "      <td>...</td>\n",
       "      <td>...</td>\n",
       "      <td>...</td>\n",
       "    </tr>\n",
       "    <tr>\n",
       "      <td>GISTEMP</td>\n",
       "      <td>1882</td>\n",
       "      <td>-0.1000</td>\n",
       "    </tr>\n",
       "    <tr>\n",
       "      <td>GCAG</td>\n",
       "      <td>1881</td>\n",
       "      <td>-0.0707</td>\n",
       "    </tr>\n",
       "    <tr>\n",
       "      <td>GISTEMP</td>\n",
       "      <td>1881</td>\n",
       "      <td>-0.1200</td>\n",
       "    </tr>\n",
       "    <tr>\n",
       "      <td>GCAG</td>\n",
       "      <td>1880</td>\n",
       "      <td>-0.1247</td>\n",
       "    </tr>\n",
       "    <tr>\n",
       "      <td>GISTEMP</td>\n",
       "      <td>1880</td>\n",
       "      <td>-0.2000</td>\n",
       "    </tr>\n",
       "  </tbody>\n",
       "</table>\n",
       "<p>272 rows × 2 columns</p>\n",
       "</div>"
      ],
      "text/plain": [
       "         Year    Mean\n",
       "Source               \n",
       "GCAG     2015  0.8990\n",
       "GISTEMP  2015  0.8700\n",
       "GCAG     2014  0.7402\n",
       "GISTEMP  2014  0.7500\n",
       "GCAG     2013  0.6687\n",
       "...       ...     ...\n",
       "GISTEMP  1882 -0.1000\n",
       "GCAG     1881 -0.0707\n",
       "GISTEMP  1881 -0.1200\n",
       "GCAG     1880 -0.1247\n",
       "GISTEMP  1880 -0.2000\n",
       "\n",
       "[272 rows x 2 columns]"
      ]
     },
     "execution_count": 3,
     "metadata": {},
     "output_type": "execute_result"
    }
   ],
   "source": [
    "dataset.set_index('Source',inplace=True)\n",
    "dataset"
   ]
  },
  {
   "cell_type": "code",
   "execution_count": 4,
   "metadata": {},
   "outputs": [
    {
     "data": {
      "text/html": [
       "<div>\n",
       "<style scoped>\n",
       "    .dataframe tbody tr th:only-of-type {\n",
       "        vertical-align: middle;\n",
       "    }\n",
       "\n",
       "    .dataframe tbody tr th {\n",
       "        vertical-align: top;\n",
       "    }\n",
       "\n",
       "    .dataframe thead th {\n",
       "        text-align: right;\n",
       "    }\n",
       "</style>\n",
       "<table border=\"1\" class=\"dataframe\">\n",
       "  <thead>\n",
       "    <tr style=\"text-align: right;\">\n",
       "      <th></th>\n",
       "      <th>Year</th>\n",
       "      <th>Mean</th>\n",
       "    </tr>\n",
       "    <tr>\n",
       "      <th>Source</th>\n",
       "      <th></th>\n",
       "      <th></th>\n",
       "    </tr>\n",
       "  </thead>\n",
       "  <tbody>\n",
       "    <tr>\n",
       "      <td>GCAG</td>\n",
       "      <td>2015</td>\n",
       "      <td>0.8990</td>\n",
       "    </tr>\n",
       "    <tr>\n",
       "      <td>GCAG</td>\n",
       "      <td>2014</td>\n",
       "      <td>0.7402</td>\n",
       "    </tr>\n",
       "    <tr>\n",
       "      <td>GCAG</td>\n",
       "      <td>2013</td>\n",
       "      <td>0.6687</td>\n",
       "    </tr>\n",
       "    <tr>\n",
       "      <td>GCAG</td>\n",
       "      <td>2012</td>\n",
       "      <td>0.6219</td>\n",
       "    </tr>\n",
       "    <tr>\n",
       "      <td>GCAG</td>\n",
       "      <td>2011</td>\n",
       "      <td>0.5759</td>\n",
       "    </tr>\n",
       "    <tr>\n",
       "      <td>...</td>\n",
       "      <td>...</td>\n",
       "      <td>...</td>\n",
       "    </tr>\n",
       "    <tr>\n",
       "      <td>GCAG</td>\n",
       "      <td>1884</td>\n",
       "      <td>-0.2099</td>\n",
       "    </tr>\n",
       "    <tr>\n",
       "      <td>GCAG</td>\n",
       "      <td>1883</td>\n",
       "      <td>-0.1481</td>\n",
       "    </tr>\n",
       "    <tr>\n",
       "      <td>GCAG</td>\n",
       "      <td>1882</td>\n",
       "      <td>-0.0710</td>\n",
       "    </tr>\n",
       "    <tr>\n",
       "      <td>GCAG</td>\n",
       "      <td>1881</td>\n",
       "      <td>-0.0707</td>\n",
       "    </tr>\n",
       "    <tr>\n",
       "      <td>GCAG</td>\n",
       "      <td>1880</td>\n",
       "      <td>-0.1247</td>\n",
       "    </tr>\n",
       "  </tbody>\n",
       "</table>\n",
       "<p>136 rows × 2 columns</p>\n",
       "</div>"
      ],
      "text/plain": [
       "        Year    Mean\n",
       "Source              \n",
       "GCAG    2015  0.8990\n",
       "GCAG    2014  0.7402\n",
       "GCAG    2013  0.6687\n",
       "GCAG    2012  0.6219\n",
       "GCAG    2011  0.5759\n",
       "...      ...     ...\n",
       "GCAG    1884 -0.2099\n",
       "GCAG    1883 -0.1481\n",
       "GCAG    1882 -0.0710\n",
       "GCAG    1881 -0.0707\n",
       "GCAG    1880 -0.1247\n",
       "\n",
       "[136 rows x 2 columns]"
      ]
     },
     "metadata": {},
     "output_type": "display_data"
    },
    {
     "data": {
      "text/html": [
       "<div>\n",
       "<style scoped>\n",
       "    .dataframe tbody tr th:only-of-type {\n",
       "        vertical-align: middle;\n",
       "    }\n",
       "\n",
       "    .dataframe tbody tr th {\n",
       "        vertical-align: top;\n",
       "    }\n",
       "\n",
       "    .dataframe thead th {\n",
       "        text-align: right;\n",
       "    }\n",
       "</style>\n",
       "<table border=\"1\" class=\"dataframe\">\n",
       "  <thead>\n",
       "    <tr style=\"text-align: right;\">\n",
       "      <th></th>\n",
       "      <th>Year</th>\n",
       "      <th>Mean</th>\n",
       "    </tr>\n",
       "    <tr>\n",
       "      <th>Source</th>\n",
       "      <th></th>\n",
       "      <th></th>\n",
       "    </tr>\n",
       "  </thead>\n",
       "  <tbody>\n",
       "    <tr>\n",
       "      <td>GISTEMP</td>\n",
       "      <td>2015</td>\n",
       "      <td>0.87</td>\n",
       "    </tr>\n",
       "    <tr>\n",
       "      <td>GISTEMP</td>\n",
       "      <td>2014</td>\n",
       "      <td>0.75</td>\n",
       "    </tr>\n",
       "    <tr>\n",
       "      <td>GISTEMP</td>\n",
       "      <td>2013</td>\n",
       "      <td>0.66</td>\n",
       "    </tr>\n",
       "    <tr>\n",
       "      <td>GISTEMP</td>\n",
       "      <td>2012</td>\n",
       "      <td>0.64</td>\n",
       "    </tr>\n",
       "    <tr>\n",
       "      <td>GISTEMP</td>\n",
       "      <td>2011</td>\n",
       "      <td>0.61</td>\n",
       "    </tr>\n",
       "    <tr>\n",
       "      <td>...</td>\n",
       "      <td>...</td>\n",
       "      <td>...</td>\n",
       "    </tr>\n",
       "    <tr>\n",
       "      <td>GISTEMP</td>\n",
       "      <td>1884</td>\n",
       "      <td>-0.28</td>\n",
       "    </tr>\n",
       "    <tr>\n",
       "      <td>GISTEMP</td>\n",
       "      <td>1883</td>\n",
       "      <td>-0.20</td>\n",
       "    </tr>\n",
       "    <tr>\n",
       "      <td>GISTEMP</td>\n",
       "      <td>1882</td>\n",
       "      <td>-0.10</td>\n",
       "    </tr>\n",
       "    <tr>\n",
       "      <td>GISTEMP</td>\n",
       "      <td>1881</td>\n",
       "      <td>-0.12</td>\n",
       "    </tr>\n",
       "    <tr>\n",
       "      <td>GISTEMP</td>\n",
       "      <td>1880</td>\n",
       "      <td>-0.20</td>\n",
       "    </tr>\n",
       "  </tbody>\n",
       "</table>\n",
       "<p>136 rows × 2 columns</p>\n",
       "</div>"
      ],
      "text/plain": [
       "         Year  Mean\n",
       "Source             \n",
       "GISTEMP  2015  0.87\n",
       "GISTEMP  2014  0.75\n",
       "GISTEMP  2013  0.66\n",
       "GISTEMP  2012  0.64\n",
       "GISTEMP  2011  0.61\n",
       "...       ...   ...\n",
       "GISTEMP  1884 -0.28\n",
       "GISTEMP  1883 -0.20\n",
       "GISTEMP  1882 -0.10\n",
       "GISTEMP  1881 -0.12\n",
       "GISTEMP  1880 -0.20\n",
       "\n",
       "[136 rows x 2 columns]"
      ]
     },
     "metadata": {},
     "output_type": "display_data"
    }
   ],
   "source": [
    "GCAG_df=pd.DataFrame(dataset.loc['GCAG'])\n",
    "GISTEMP_df=pd.DataFrame(dataset.loc['GISTEMP'])\n",
    "display(GCAG_df,GISTEMP_df)"
   ]
  },
  {
   "cell_type": "code",
   "execution_count": 5,
   "metadata": {},
   "outputs": [],
   "source": [
    "GCAG_df.reset_index(inplace=True)"
   ]
  },
  {
   "cell_type": "code",
   "execution_count": 6,
   "metadata": {},
   "outputs": [],
   "source": [
    "GISTEMP_df.reset_index(inplace=True)"
   ]
  },
  {
   "cell_type": "markdown",
   "metadata": {},
   "source": [
    "# GCAG_df"
   ]
  },
  {
   "cell_type": "code",
   "execution_count": 7,
   "metadata": {},
   "outputs": [
    {
     "data": {
      "text/html": [
       "<div>\n",
       "<style scoped>\n",
       "    .dataframe tbody tr th:only-of-type {\n",
       "        vertical-align: middle;\n",
       "    }\n",
       "\n",
       "    .dataframe tbody tr th {\n",
       "        vertical-align: top;\n",
       "    }\n",
       "\n",
       "    .dataframe thead th {\n",
       "        text-align: right;\n",
       "    }\n",
       "</style>\n",
       "<table border=\"1\" class=\"dataframe\">\n",
       "  <thead>\n",
       "    <tr style=\"text-align: right;\">\n",
       "      <th></th>\n",
       "      <th>Source</th>\n",
       "      <th>Year</th>\n",
       "      <th>Mean</th>\n",
       "    </tr>\n",
       "  </thead>\n",
       "  <tbody>\n",
       "    <tr>\n",
       "      <td>0</td>\n",
       "      <td>GCAG</td>\n",
       "      <td>2015</td>\n",
       "      <td>0.8990</td>\n",
       "    </tr>\n",
       "    <tr>\n",
       "      <td>1</td>\n",
       "      <td>GCAG</td>\n",
       "      <td>2014</td>\n",
       "      <td>0.7402</td>\n",
       "    </tr>\n",
       "    <tr>\n",
       "      <td>2</td>\n",
       "      <td>GCAG</td>\n",
       "      <td>2013</td>\n",
       "      <td>0.6687</td>\n",
       "    </tr>\n",
       "    <tr>\n",
       "      <td>3</td>\n",
       "      <td>GCAG</td>\n",
       "      <td>2012</td>\n",
       "      <td>0.6219</td>\n",
       "    </tr>\n",
       "    <tr>\n",
       "      <td>4</td>\n",
       "      <td>GCAG</td>\n",
       "      <td>2011</td>\n",
       "      <td>0.5759</td>\n",
       "    </tr>\n",
       "    <tr>\n",
       "      <td>...</td>\n",
       "      <td>...</td>\n",
       "      <td>...</td>\n",
       "      <td>...</td>\n",
       "    </tr>\n",
       "    <tr>\n",
       "      <td>131</td>\n",
       "      <td>GCAG</td>\n",
       "      <td>1884</td>\n",
       "      <td>-0.2099</td>\n",
       "    </tr>\n",
       "    <tr>\n",
       "      <td>132</td>\n",
       "      <td>GCAG</td>\n",
       "      <td>1883</td>\n",
       "      <td>-0.1481</td>\n",
       "    </tr>\n",
       "    <tr>\n",
       "      <td>133</td>\n",
       "      <td>GCAG</td>\n",
       "      <td>1882</td>\n",
       "      <td>-0.0710</td>\n",
       "    </tr>\n",
       "    <tr>\n",
       "      <td>134</td>\n",
       "      <td>GCAG</td>\n",
       "      <td>1881</td>\n",
       "      <td>-0.0707</td>\n",
       "    </tr>\n",
       "    <tr>\n",
       "      <td>135</td>\n",
       "      <td>GCAG</td>\n",
       "      <td>1880</td>\n",
       "      <td>-0.1247</td>\n",
       "    </tr>\n",
       "  </tbody>\n",
       "</table>\n",
       "<p>136 rows × 3 columns</p>\n",
       "</div>"
      ],
      "text/plain": [
       "    Source  Year    Mean\n",
       "0     GCAG  2015  0.8990\n",
       "1     GCAG  2014  0.7402\n",
       "2     GCAG  2013  0.6687\n",
       "3     GCAG  2012  0.6219\n",
       "4     GCAG  2011  0.5759\n",
       "..     ...   ...     ...\n",
       "131   GCAG  1884 -0.2099\n",
       "132   GCAG  1883 -0.1481\n",
       "133   GCAG  1882 -0.0710\n",
       "134   GCAG  1881 -0.0707\n",
       "135   GCAG  1880 -0.1247\n",
       "\n",
       "[136 rows x 3 columns]"
      ]
     },
     "execution_count": 7,
     "metadata": {},
     "output_type": "execute_result"
    }
   ],
   "source": [
    "GCAG_df"
   ]
  },
  {
   "cell_type": "markdown",
   "metadata": {},
   "source": [
    "# APPLYING MODEL"
   ]
  },
  {
   "cell_type": "code",
   "execution_count": 8,
   "metadata": {},
   "outputs": [],
   "source": [
    "x1= GCAG_df.iloc[:,-2:-1].values\n",
    "y1 = GCAG_df.iloc[:,-1].values"
   ]
  },
  {
   "cell_type": "markdown",
   "metadata": {},
   "source": [
    "## POLYNOMIAL REGRESSION  GCAG"
   ]
  },
  {
   "cell_type": "code",
   "execution_count": 9,
   "metadata": {},
   "outputs": [],
   "source": [
    "from sklearn.model_selection import train_test_split\n",
    "x1_train,x1_test, y1_train,y1_test = train_test_split(x1, y1, test_size=0.3, random_state=0)"
   ]
  },
  {
   "cell_type": "code",
   "execution_count": 10,
   "metadata": {
    "scrolled": true
   },
   "outputs": [
    {
     "data": {
      "text/plain": [
       "array([[1.000000e+00, 2.002000e+03, 4.008004e+06],\n",
       "       [1.000000e+00, 1.888000e+03, 3.564544e+06],\n",
       "       [1.000000e+00, 1.894000e+03, 3.587236e+06],\n",
       "       [1.000000e+00, 1.953000e+03, 3.814209e+06],\n",
       "       [1.000000e+00, 1.956000e+03, 3.825936e+06],\n",
       "       [1.000000e+00, 2.000000e+03, 4.000000e+06],\n",
       "       [1.000000e+00, 1.952000e+03, 3.810304e+06],\n",
       "       [1.000000e+00, 1.975000e+03, 3.900625e+06],\n",
       "       [1.000000e+00, 1.906000e+03, 3.632836e+06],\n",
       "       [1.000000e+00, 1.955000e+03, 3.822025e+06],\n",
       "       [1.000000e+00, 2.012000e+03, 4.048144e+06],\n",
       "       [1.000000e+00, 1.909000e+03, 3.644281e+06],\n",
       "       [1.000000e+00, 1.930000e+03, 3.724900e+06],\n",
       "       [1.000000e+00, 2.009000e+03, 4.036081e+06],\n",
       "       [1.000000e+00, 1.929000e+03, 3.721041e+06],\n",
       "       [1.000000e+00, 1.949000e+03, 3.798601e+06],\n",
       "       [1.000000e+00, 1.905000e+03, 3.629025e+06],\n",
       "       [1.000000e+00, 1.926000e+03, 3.709476e+06],\n",
       "       [1.000000e+00, 1.947000e+03, 3.790809e+06],\n",
       "       [1.000000e+00, 1.891000e+03, 3.575881e+06],\n",
       "       [1.000000e+00, 1.908000e+03, 3.640464e+06],\n",
       "       [1.000000e+00, 1.882000e+03, 3.541924e+06],\n",
       "       [1.000000e+00, 1.918000e+03, 3.678724e+06],\n",
       "       [1.000000e+00, 1.899000e+03, 3.606201e+06],\n",
       "       [1.000000e+00, 1.897000e+03, 3.598609e+06],\n",
       "       [1.000000e+00, 2.004000e+03, 4.016016e+06],\n",
       "       [1.000000e+00, 1.896000e+03, 3.594816e+06],\n",
       "       [1.000000e+00, 1.923000e+03, 3.697929e+06],\n",
       "       [1.000000e+00, 1.974000e+03, 3.896676e+06],\n",
       "       [1.000000e+00, 1.921000e+03, 3.690241e+06],\n",
       "       [1.000000e+00, 2.014000e+03, 4.056196e+06],\n",
       "       [1.000000e+00, 1.925000e+03, 3.705625e+06],\n",
       "       [1.000000e+00, 1.892000e+03, 3.579664e+06],\n",
       "       [1.000000e+00, 1.973000e+03, 3.892729e+06],\n",
       "       [1.000000e+00, 2.011000e+03, 4.044121e+06],\n",
       "       [1.000000e+00, 1.998000e+03, 3.992004e+06],\n",
       "       [1.000000e+00, 1.977000e+03, 3.908529e+06],\n",
       "       [1.000000e+00, 2.010000e+03, 4.040100e+06],\n",
       "       [1.000000e+00, 1.962000e+03, 3.849444e+06],\n",
       "       [1.000000e+00, 1.886000e+03, 3.556996e+06],\n",
       "       [1.000000e+00, 1.911000e+03, 3.651921e+06],\n",
       "       [1.000000e+00, 2.015000e+03, 4.060225e+06],\n",
       "       [1.000000e+00, 1.981000e+03, 3.924361e+06],\n",
       "       [1.000000e+00, 1.987000e+03, 3.948169e+06],\n",
       "       [1.000000e+00, 1.960000e+03, 3.841600e+06],\n",
       "       [1.000000e+00, 1.940000e+03, 3.763600e+06],\n",
       "       [1.000000e+00, 1.980000e+03, 3.920400e+06],\n",
       "       [1.000000e+00, 1.992000e+03, 3.968064e+06],\n",
       "       [1.000000e+00, 1.941000e+03, 3.767481e+06],\n",
       "       [1.000000e+00, 1.984000e+03, 3.936256e+06],\n",
       "       [1.000000e+00, 1.920000e+03, 3.686400e+06],\n",
       "       [1.000000e+00, 1.958000e+03, 3.833764e+06],\n",
       "       [1.000000e+00, 1.904000e+03, 3.625216e+06],\n",
       "       [1.000000e+00, 1.893000e+03, 3.583449e+06],\n",
       "       [1.000000e+00, 1.983000e+03, 3.932289e+06],\n",
       "       [1.000000e+00, 1.895000e+03, 3.591025e+06],\n",
       "       [1.000000e+00, 2.001000e+03, 4.004001e+06],\n",
       "       [1.000000e+00, 1.883000e+03, 3.545689e+06],\n",
       "       [1.000000e+00, 1.996000e+03, 3.984016e+06],\n",
       "       [1.000000e+00, 1.986000e+03, 3.944196e+06],\n",
       "       [1.000000e+00, 1.966000e+03, 3.865156e+06],\n",
       "       [1.000000e+00, 1.881000e+03, 3.538161e+06],\n",
       "       [1.000000e+00, 1.916000e+03, 3.671056e+06],\n",
       "       [1.000000e+00, 1.933000e+03, 3.736489e+06],\n",
       "       [1.000000e+00, 1.951000e+03, 3.806401e+06],\n",
       "       [1.000000e+00, 1.880000e+03, 3.534400e+06],\n",
       "       [1.000000e+00, 1.936000e+03, 3.748096e+06],\n",
       "       [1.000000e+00, 1.946000e+03, 3.786916e+06],\n",
       "       [1.000000e+00, 1.935000e+03, 3.744225e+06],\n",
       "       [1.000000e+00, 1.995000e+03, 3.980025e+06],\n",
       "       [1.000000e+00, 1.884000e+03, 3.549456e+06],\n",
       "       [1.000000e+00, 1.943000e+03, 3.775249e+06],\n",
       "       [1.000000e+00, 1.938000e+03, 3.755844e+06],\n",
       "       [1.000000e+00, 1.990000e+03, 3.960100e+06],\n",
       "       [1.000000e+00, 1.978000e+03, 3.912484e+06],\n",
       "       [1.000000e+00, 1.934000e+03, 3.740356e+06],\n",
       "       [1.000000e+00, 1.890000e+03, 3.572100e+06],\n",
       "       [1.000000e+00, 1.969000e+03, 3.876961e+06],\n",
       "       [1.000000e+00, 1.887000e+03, 3.560769e+06],\n",
       "       [1.000000e+00, 1.976000e+03, 3.904576e+06],\n",
       "       [1.000000e+00, 1.913000e+03, 3.659569e+06],\n",
       "       [1.000000e+00, 1.950000e+03, 3.802500e+06],\n",
       "       [1.000000e+00, 1.957000e+03, 3.829849e+06],\n",
       "       [1.000000e+00, 2.003000e+03, 4.012009e+06],\n",
       "       [1.000000e+00, 1.889000e+03, 3.568321e+06],\n",
       "       [1.000000e+00, 1.927000e+03, 3.713329e+06],\n",
       "       [1.000000e+00, 1.945000e+03, 3.783025e+06],\n",
       "       [1.000000e+00, 1.928000e+03, 3.717184e+06],\n",
       "       [1.000000e+00, 1.979000e+03, 3.916441e+06],\n",
       "       [1.000000e+00, 1.994000e+03, 3.976036e+06],\n",
       "       [1.000000e+00, 2.006000e+03, 4.024036e+06],\n",
       "       [1.000000e+00, 1.912000e+03, 3.655744e+06],\n",
       "       [1.000000e+00, 1.948000e+03, 3.794704e+06],\n",
       "       [1.000000e+00, 1.898000e+03, 3.602404e+06],\n",
       "       [1.000000e+00, 1.968000e+03, 3.873024e+06]])"
      ]
     },
     "execution_count": 10,
     "metadata": {},
     "output_type": "execute_result"
    }
   ],
   "source": [
    "# Add the polynomial term to the equation/model\n",
    "from sklearn.preprocessing import PolynomialFeatures \n",
    "  \n",
    "polynom1 = PolynomialFeatures(degree = 2) \n",
    "x1_polynom = polynom1.fit_transform(x1_train) \n",
    "#polynom.fit(x1_polynom,y1_train)\n",
    "x1_polynom"
   ]
  },
  {
   "cell_type": "code",
   "execution_count": 11,
   "metadata": {},
   "outputs": [
    {
     "data": {
      "text/plain": [
       "LinearRegression(copy_X=True, fit_intercept=True, n_jobs=None, normalize=False)"
      ]
     },
     "execution_count": 11,
     "metadata": {},
     "output_type": "execute_result"
    }
   ],
   "source": [
    "#Fit the Polynomial Regression Model \n",
    "from sklearn.linear_model import LinearRegression\n",
    "PolyReg_1 = LinearRegression() \n",
    "PolyReg_1.fit(x1_polynom, y1_train)"
   ]
  },
  {
   "cell_type": "code",
   "execution_count": 12,
   "metadata": {},
   "outputs": [
    {
     "data": {
      "text/plain": [
       "<Figure size 800x500 with 1 Axes>"
      ]
     },
     "metadata": {},
     "output_type": "display_data"
    }
   ],
   "source": [
    "import matplotlib.pyplot as plt\n",
    "# Visualise the Polynomial Regression Results \n",
    "plt.figure(figsize=(8,5))\n",
    "plt.scatter(x1_train, y1_train ,color = 'b' ,label=\"DATA_POINTS\") \n",
    "  \n",
    "plt.plot(x1_train, PolyReg_1.predict(polynom1.fit_transform(x1_train)), color = 'r',label=\"REG_LINE\") \n",
    "plt.title('ANNUAL TEMPERATURE Training set',fontsize=18)\n",
    "plt.xlabel('YEAR',fontsize=18)\n",
    "plt.ylabel('MEAN',fontsize=18)\n",
    "plt.legend()  \n",
    "plt.show()\n"
   ]
  },
  {
   "cell_type": "code",
   "execution_count": 32,
   "metadata": {},
   "outputs": [
    {
     "data": {
      "image/png": "[encoded data removed]",
      "text/plain": [
       "<Figure size 576x360 with 1 Axes>"
      ]
     },
     "metadata": {
      "needs_background": "light"
     },
     "output_type": "display_data"
    }
   ],
   "source": [
    "# Visualising the Polynomial Regression results (for higher resolution and smoother curve)\n",
    "plt.figure(figsize=(8,5))\n",
    "X1_grid = np.arange(min(x1_train), max(x1_train), 0.1)\n",
    "X1_grid = X1_grid.reshape((len(X1_grid), 1))\n",
    "plt.scatter(x1_train, y1_train, color = 'b',label=\"DATA_POINTS\")\n",
    "plt.plot(X1_grid, PolyReg_1.predict(polynom1.fit_transform(X1_grid)), color = 'r',label=\"REG_LINE\")\n",
    "plt.title('ANNUAL TEMPERATURE OF GCAG',fontsize=18)\n",
    "plt.xlabel('YEAR',fontsize=18)\n",
    "plt.ylabel('MEAN',fontsize=18)\n",
    "\n",
    "plt.legend()   \n",
    "plt.show()"
   ]
  },
  {
   "cell_type": "code",
   "execution_count": 14,
   "metadata": {},
   "outputs": [],
   "source": [
    "y1_pred=PolyReg_1.predict(polynom1.fit_transform(x1_test))"
   ]
  },
  {
   "cell_type": "code",
   "execution_count": 15,
   "metadata": {},
   "outputs": [
    {
     "name": "stdout",
     "output_type": "stream",
     "text": [
      "0.8221433641462763\n"
     ]
    }
   ],
   "source": [
    "ind1_acc=r2_score(y1_test,y1_pred)\n",
    "print(r2_score(y1_test,y1_pred))"
   ]
  },
  {
   "cell_type": "markdown",
   "metadata": {},
   "source": [
    "# GISTEMP_df"
   ]
  },
  {
   "cell_type": "code",
   "execution_count": 16,
   "metadata": {},
   "outputs": [
    {
     "data": {
      "text/html": [
       "<div>\n",
       "<style scoped>\n",
       "    .dataframe tbody tr th:only-of-type {\n",
       "        vertical-align: middle;\n",
       "    }\n",
       "\n",
       "    .dataframe tbody tr th {\n",
       "        vertical-align: top;\n",
       "    }\n",
       "\n",
       "    .dataframe thead th {\n",
       "        text-align: right;\n",
       "    }\n",
       "</style>\n",
       "<table border=\"1\" class=\"dataframe\">\n",
       "  <thead>\n",
       "    <tr style=\"text-align: right;\">\n",
       "      <th></th>\n",
       "      <th>Source</th>\n",
       "      <th>Year</th>\n",
       "      <th>Mean</th>\n",
       "    </tr>\n",
       "  </thead>\n",
       "  <tbody>\n",
       "    <tr>\n",
       "      <td>0</td>\n",
       "      <td>GISTEMP</td>\n",
       "      <td>2015</td>\n",
       "      <td>0.87</td>\n",
       "    </tr>\n",
       "    <tr>\n",
       "      <td>1</td>\n",
       "      <td>GISTEMP</td>\n",
       "      <td>2014</td>\n",
       "      <td>0.75</td>\n",
       "    </tr>\n",
       "    <tr>\n",
       "      <td>2</td>\n",
       "      <td>GISTEMP</td>\n",
       "      <td>2013</td>\n",
       "      <td>0.66</td>\n",
       "    </tr>\n",
       "    <tr>\n",
       "      <td>3</td>\n",
       "      <td>GISTEMP</td>\n",
       "      <td>2012</td>\n",
       "      <td>0.64</td>\n",
       "    </tr>\n",
       "    <tr>\n",
       "      <td>4</td>\n",
       "      <td>GISTEMP</td>\n",
       "      <td>2011</td>\n",
       "      <td>0.61</td>\n",
       "    </tr>\n",
       "    <tr>\n",
       "      <td>...</td>\n",
       "      <td>...</td>\n",
       "      <td>...</td>\n",
       "      <td>...</td>\n",
       "    </tr>\n",
       "    <tr>\n",
       "      <td>131</td>\n",
       "      <td>GISTEMP</td>\n",
       "      <td>1884</td>\n",
       "      <td>-0.28</td>\n",
       "    </tr>\n",
       "    <tr>\n",
       "      <td>132</td>\n",
       "      <td>GISTEMP</td>\n",
       "      <td>1883</td>\n",
       "      <td>-0.20</td>\n",
       "    </tr>\n",
       "    <tr>\n",
       "      <td>133</td>\n",
       "      <td>GISTEMP</td>\n",
       "      <td>1882</td>\n",
       "      <td>-0.10</td>\n",
       "    </tr>\n",
       "    <tr>\n",
       "      <td>134</td>\n",
       "      <td>GISTEMP</td>\n",
       "      <td>1881</td>\n",
       "      <td>-0.12</td>\n",
       "    </tr>\n",
       "    <tr>\n",
       "      <td>135</td>\n",
       "      <td>GISTEMP</td>\n",
       "      <td>1880</td>\n",
       "      <td>-0.20</td>\n",
       "    </tr>\n",
       "  </tbody>\n",
       "</table>\n",
       "<p>136 rows × 3 columns</p>\n",
       "</div>"
      ],
      "text/plain": [
       "      Source  Year  Mean\n",
       "0    GISTEMP  2015  0.87\n",
       "1    GISTEMP  2014  0.75\n",
       "2    GISTEMP  2013  0.66\n",
       "3    GISTEMP  2012  0.64\n",
       "4    GISTEMP  2011  0.61\n",
       "..       ...   ...   ...\n",
       "131  GISTEMP  1884 -0.28\n",
       "132  GISTEMP  1883 -0.20\n",
       "133  GISTEMP  1882 -0.10\n",
       "134  GISTEMP  1881 -0.12\n",
       "135  GISTEMP  1880 -0.20\n",
       "\n",
       "[136 rows x 3 columns]"
      ]
     },
     "execution_count": 16,
     "metadata": {},
     "output_type": "execute_result"
    }
   ],
   "source": [
    "GISTEMP_df"
   ]
  },
  {
   "cell_type": "code",
   "execution_count": 17,
   "metadata": {},
   "outputs": [],
   "source": [
    "x2= GISTEMP_df.iloc[:,-2:-1].values\n",
    "y2 = GISTEMP_df.iloc[:,-1].values"
   ]
  },
  {
   "cell_type": "markdown",
   "metadata": {},
   "source": [
    "# POLYNOMIAL REGRESSION GISTEMP"
   ]
  },
  {
   "cell_type": "code",
   "execution_count": 18,
   "metadata": {},
   "outputs": [],
   "source": [
    "from sklearn.model_selection import train_test_split\n",
    "x2_train,x2_test, y2_train,y2_test = train_test_split(x2, y2, test_size=0.3, random_state=0)"
   ]
  },
  {
   "cell_type": "code",
   "execution_count": 19,
   "metadata": {
    "scrolled": true
   },
   "outputs": [
    {
     "data": {
      "text/plain": [
       "array([[1.000000e+00, 2.002000e+03, 4.008004e+06],\n",
       "       [1.000000e+00, 1.888000e+03, 3.564544e+06],\n",
       "       [1.000000e+00, 1.894000e+03, 3.587236e+06],\n",
       "       [1.000000e+00, 1.953000e+03, 3.814209e+06],\n",
       "       [1.000000e+00, 1.956000e+03, 3.825936e+06],\n",
       "       [1.000000e+00, 2.000000e+03, 4.000000e+06],\n",
       "       [1.000000e+00, 1.952000e+03, 3.810304e+06],\n",
       "       [1.000000e+00, 1.975000e+03, 3.900625e+06],\n",
       "       [1.000000e+00, 1.906000e+03, 3.632836e+06],\n",
       "       [1.000000e+00, 1.955000e+03, 3.822025e+06],\n",
       "       [1.000000e+00, 2.012000e+03, 4.048144e+06],\n",
       "       [1.000000e+00, 1.909000e+03, 3.644281e+06],\n",
       "       [1.000000e+00, 1.930000e+03, 3.724900e+06],\n",
       "       [1.000000e+00, 2.009000e+03, 4.036081e+06],\n",
       "       [1.000000e+00, 1.929000e+03, 3.721041e+06],\n",
       "       [1.000000e+00, 1.949000e+03, 3.798601e+06],\n",
       "       [1.000000e+00, 1.905000e+03, 3.629025e+06],\n",
       "       [1.000000e+00, 1.926000e+03, 3.709476e+06],\n",
       "       [1.000000e+00, 1.947000e+03, 3.790809e+06],\n",
       "       [1.000000e+00, 1.891000e+03, 3.575881e+06],\n",
       "       [1.000000e+00, 1.908000e+03, 3.640464e+06],\n",
       "       [1.000000e+00, 1.882000e+03, 3.541924e+06],\n",
       "       [1.000000e+00, 1.918000e+03, 3.678724e+06],\n",
       "       [1.000000e+00, 1.899000e+03, 3.606201e+06],\n",
       "       [1.000000e+00, 1.897000e+03, 3.598609e+06],\n",
       "       [1.000000e+00, 2.004000e+03, 4.016016e+06],\n",
       "       [1.000000e+00, 1.896000e+03, 3.594816e+06],\n",
       "       [1.000000e+00, 1.923000e+03, 3.697929e+06],\n",
       "       [1.000000e+00, 1.974000e+03, 3.896676e+06],\n",
       "       [1.000000e+00, 1.921000e+03, 3.690241e+06],\n",
       "       [1.000000e+00, 2.014000e+03, 4.056196e+06],\n",
       "       [1.000000e+00, 1.925000e+03, 3.705625e+06],\n",
       "       [1.000000e+00, 1.892000e+03, 3.579664e+06],\n",
       "       [1.000000e+00, 1.973000e+03, 3.892729e+06],\n",
       "       [1.000000e+00, 2.011000e+03, 4.044121e+06],\n",
       "       [1.000000e+00, 1.998000e+03, 3.992004e+06],\n",
       "       [1.000000e+00, 1.977000e+03, 3.908529e+06],\n",
       "       [1.000000e+00, 2.010000e+03, 4.040100e+06],\n",
       "       [1.000000e+00, 1.962000e+03, 3.849444e+06],\n",
       "       [1.000000e+00, 1.886000e+03, 3.556996e+06],\n",
       "       [1.000000e+00, 1.911000e+03, 3.651921e+06],\n",
       "       [1.000000e+00, 2.015000e+03, 4.060225e+06],\n",
       "       [1.000000e+00, 1.981000e+03, 3.924361e+06],\n",
       "       [1.000000e+00, 1.987000e+03, 3.948169e+06],\n",
       "       [1.000000e+00, 1.960000e+03, 3.841600e+06],\n",
       "       [1.000000e+00, 1.940000e+03, 3.763600e+06],\n",
       "       [1.000000e+00, 1.980000e+03, 3.920400e+06],\n",
       "       [1.000000e+00, 1.992000e+03, 3.968064e+06],\n",
       "       [1.000000e+00, 1.941000e+03, 3.767481e+06],\n",
       "       [1.000000e+00, 1.984000e+03, 3.936256e+06],\n",
       "       [1.000000e+00, 1.920000e+03, 3.686400e+06],\n",
       "       [1.000000e+00, 1.958000e+03, 3.833764e+06],\n",
       "       [1.000000e+00, 1.904000e+03, 3.625216e+06],\n",
       "       [1.000000e+00, 1.893000e+03, 3.583449e+06],\n",
       "       [1.000000e+00, 1.983000e+03, 3.932289e+06],\n",
       "       [1.000000e+00, 1.895000e+03, 3.591025e+06],\n",
       "       [1.000000e+00, 2.001000e+03, 4.004001e+06],\n",
       "       [1.000000e+00, 1.883000e+03, 3.545689e+06],\n",
       "       [1.000000e+00, 1.996000e+03, 3.984016e+06],\n",
       "       [1.000000e+00, 1.986000e+03, 3.944196e+06],\n",
       "       [1.000000e+00, 1.966000e+03, 3.865156e+06],\n",
       "       [1.000000e+00, 1.881000e+03, 3.538161e+06],\n",
       "       [1.000000e+00, 1.916000e+03, 3.671056e+06],\n",
       "       [1.000000e+00, 1.933000e+03, 3.736489e+06],\n",
       "       [1.000000e+00, 1.951000e+03, 3.806401e+06],\n",
       "       [1.000000e+00, 1.880000e+03, 3.534400e+06],\n",
       "       [1.000000e+00, 1.936000e+03, 3.748096e+06],\n",
       "       [1.000000e+00, 1.946000e+03, 3.786916e+06],\n",
       "       [1.000000e+00, 1.935000e+03, 3.744225e+06],\n",
       "       [1.000000e+00, 1.995000e+03, 3.980025e+06],\n",
       "       [1.000000e+00, 1.884000e+03, 3.549456e+06],\n",
       "       [1.000000e+00, 1.943000e+03, 3.775249e+06],\n",
       "       [1.000000e+00, 1.938000e+03, 3.755844e+06],\n",
       "       [1.000000e+00, 1.990000e+03, 3.960100e+06],\n",
       "       [1.000000e+00, 1.978000e+03, 3.912484e+06],\n",
       "       [1.000000e+00, 1.934000e+03, 3.740356e+06],\n",
       "       [1.000000e+00, 1.890000e+03, 3.572100e+06],\n",
       "       [1.000000e+00, 1.969000e+03, 3.876961e+06],\n",
       "       [1.000000e+00, 1.887000e+03, 3.560769e+06],\n",
       "       [1.000000e+00, 1.976000e+03, 3.904576e+06],\n",
       "       [1.000000e+00, 1.913000e+03, 3.659569e+06],\n",
       "       [1.000000e+00, 1.950000e+03, 3.802500e+06],\n",
       "       [1.000000e+00, 1.957000e+03, 3.829849e+06],\n",
       "       [1.000000e+00, 2.003000e+03, 4.012009e+06],\n",
       "       [1.000000e+00, 1.889000e+03, 3.568321e+06],\n",
       "       [1.000000e+00, 1.927000e+03, 3.713329e+06],\n",
       "       [1.000000e+00, 1.945000e+03, 3.783025e+06],\n",
       "       [1.000000e+00, 1.928000e+03, 3.717184e+06],\n",
       "       [1.000000e+00, 1.979000e+03, 3.916441e+06],\n",
       "       [1.000000e+00, 1.994000e+03, 3.976036e+06],\n",
       "       [1.000000e+00, 2.006000e+03, 4.024036e+06],\n",
       "       [1.000000e+00, 1.912000e+03, 3.655744e+06],\n",
       "       [1.000000e+00, 1.948000e+03, 3.794704e+06],\n",
       "       [1.000000e+00, 1.898000e+03, 3.602404e+06],\n",
       "       [1.000000e+00, 1.968000e+03, 3.873024e+06]])"
      ]
     },
     "execution_count": 19,
     "metadata": {},
     "output_type": "execute_result"
    }
   ],
   "source": [
    "# Add the polynomial term to the equation/model\n",
    "from sklearn.preprocessing import PolynomialFeatures \n",
    "  \n",
    "polynom2 = PolynomialFeatures(degree = 2) \n",
    "x2_polynom = polynom2.fit_transform(x2_train) \n",
    "#polynom.fit(x1_polynom,y1_Train)\n",
    "x2_polynom"
   ]
  },
  {
   "cell_type": "code",
   "execution_count": 20,
   "metadata": {},
   "outputs": [
    {
     "data": {
      "text/plain": [
       "LinearRegression(copy_X=True, fit_intercept=True, n_jobs=None, normalize=False)"
      ]
     },
     "execution_count": 20,
     "metadata": {},
     "output_type": "execute_result"
    }
   ],
   "source": [
    "#Fit the Polynomial Regression Model \n",
    "from sklearn.linear_model import LinearRegression\n",
    "PolyReg_2 = LinearRegression() \n",
    "PolyReg_2.fit(x2_polynom, y2_train)"
   ]
  },
  {
   "cell_type": "code",
   "execution_count": 21,
   "metadata": {},
   "outputs": [
    {
     "data": {
      "image/png": "[encoded data removed]",
      "text/plain": [
       "<Figure size 576x360 with 1 Axes>"
      ]
     },
     "metadata": {
      "needs_background": "light"
     },
     "output_type": "display_data"
    }
   ],
   "source": [
    "# Visualise the Polynomial Regression Results \n",
    "plt.figure(figsize=(8,5))\n",
    "plt.scatter(x2_train, y2_train ,color = 'b',label=\"DATA_POINTS\") \n",
    "  \n",
    "plt.plot(x2_train, PolyReg_2.predict(polynom2.fit_transform(x2_train)), color = 'r',label=\"REG_LINE\") \n",
    "plt.title('ANNUAL TEMPERATURE Training set',fontsize=18)\n",
    "plt.xlabel('YEAR',fontsize=18)\n",
    "plt.ylabel('MEAN',fontsize=18)\n",
    "plt.legend()  \n",
    "plt.show()"
   ]
  },
  {
   "cell_type": "code",
   "execution_count": 22,
   "metadata": {},
   "outputs": [
    {
     "data": {
      "image/png": "[encoded data removed]",
      "text/plain": [
       "<Figure size 576x360 with 1 Axes>"
      ]
     },
     "metadata": {
      "needs_background": "light"
     },
     "output_type": "display_data"
    }
   ],
   "source": [
    "# Visualising the Polynomial Regression results (for higher resolution and smoother curve)\n",
    "plt.figure(figsize=(8,5))\n",
    "X2_grid = np.arange(min(x2_train), max(x2_train), 0.1)\n",
    "X2_grid = X2_grid.reshape((len(X2_grid), 1))\n",
    "plt.scatter(x2_train, y2_train, color = 'b',label=\"DATA_POINTS\")\n",
    "plt.plot(X2_grid, PolyReg_2.predict(polynom2.fit_transform(X2_grid)), color = 'r',label=\"REG_LINE\")\n",
    "plt.title('ANNUAL TEMPERATURE OF GISTEMP',fontsize=18)\n",
    "plt.xlabel('YEAR',fontsize=18)\n",
    "plt.ylabel('MEAN',fontsize=18)\n",
    "plt.legend()    \n",
    "plt.show()"
   ]
  },
  {
   "cell_type": "code",
   "execution_count": 23,
   "metadata": {},
   "outputs": [],
   "source": [
    "y2_pred=PolyReg_2.predict(polynom2.fit_transform(x2_test))"
   ]
  },
  {
   "cell_type": "code",
   "execution_count": 24,
   "metadata": {},
   "outputs": [
    {
     "name": "stdout",
     "output_type": "stream",
     "text": [
      "0.824968369371956\n"
     ]
    }
   ],
   "source": [
    "ind2_acc=r2_score(y2_test,y2_pred)\n",
    "print(r2_score(y2_test,y2_pred))"
   ]
  },
  {
   "cell_type": "markdown",
   "metadata": {},
   "source": [
    "# ACCURACY"
   ]
  },
  {
   "cell_type": "code",
   "execution_count": 25,
   "metadata": {},
   "outputs": [
    {
     "name": "stdout",
     "output_type": "stream",
     "text": [
      "0.8221433641462763\n"
     ]
    }
   ],
   "source": [
    "ind1_acc=r2_score(y1_test,y1_pred)\n",
    "print(r2_score(y1_test,y1_pred))"
   ]
  },
  {
   "cell_type": "code",
   "execution_count": 26,
   "metadata": {},
   "outputs": [
    {
     "name": "stdout",
     "output_type": "stream",
     "text": [
      "0.824968369371956\n"
     ]
    }
   ],
   "source": [
    "ind2_acc=r2_score(y2_test,y2_pred)\n",
    "print(r2_score(y2_test,y2_pred))"
   ]
  },
  {
   "cell_type": "markdown",
   "metadata": {},
   "source": [
    "# MAKE  PREDICTION "
   ]
  },
  {
   "cell_type": "code",
   "execution_count": 27,
   "metadata": {},
   "outputs": [],
   "source": [
    "def pre_temp(year):\n",
    "    temp1=PolyReg_1.predict(polynom1.fit_transform([[year]]))\n",
    "    temp2=PolyReg_2.predict(polynom2.fit_transform([[year]]))\n",
    "    dic={\n",
    "        \"source\":[\"GCAG\",\"GISTEMP\"],\n",
    "        \"year\":[year,year],\n",
    "        \"Mean_temp\":[temp1, temp2]\n",
    "    }\n",
    "    res=pd.DataFrame(dic)\n",
    "    return res"
   ]
  },
  {
   "cell_type": "code",
   "execution_count": 28,
   "metadata": {},
   "outputs": [
    {
     "data": {
      "text/html": [
       "<div>\n",
       "<style scoped>\n",
       "    .dataframe tbody tr th:only-of-type {\n",
       "        vertical-align: middle;\n",
       "    }\n",
       "\n",
       "    .dataframe tbody tr th {\n",
       "        vertical-align: top;\n",
       "    }\n",
       "\n",
       "    .dataframe thead th {\n",
       "        text-align: right;\n",
       "    }\n",
       "</style>\n",
       "<table border=\"1\" class=\"dataframe\">\n",
       "  <thead>\n",
       "    <tr style=\"text-align: right;\">\n",
       "      <th></th>\n",
       "      <th>source</th>\n",
       "      <th>year</th>\n",
       "      <th>Mean_temp</th>\n",
       "    </tr>\n",
       "  </thead>\n",
       "  <tbody>\n",
       "    <tr>\n",
       "      <td>0</td>\n",
       "      <td>GCAG</td>\n",
       "      <td>2017</td>\n",
       "      <td>[0.7744863107142805]</td>\n",
       "    </tr>\n",
       "    <tr>\n",
       "      <td>1</td>\n",
       "      <td>GISTEMP</td>\n",
       "      <td>2017</td>\n",
       "      <td>[0.786545329372359]</td>\n",
       "    </tr>\n",
       "  </tbody>\n",
       "</table>\n",
       "</div>"
      ],
      "text/plain": [
       "    source  year             Mean_temp\n",
       "0     GCAG  2017  [0.7744863107142805]\n",
       "1  GISTEMP  2017   [0.786545329372359]"
      ]
     },
     "execution_count": 28,
     "metadata": {},
     "output_type": "execute_result"
    }
   ],
   "source": [
    "res_df=pre_temp(2017)\n",
    "res_df"
   ]
  },
  {
   "cell_type": "code",
   "execution_count": 29,
   "metadata": {},
   "outputs": [
    {
     "data": {
      "text/html": [
       "<div>\n",
       "<style scoped>\n",
       "    .dataframe tbody tr th:only-of-type {\n",
       "        vertical-align: middle;\n",
       "    }\n",
       "\n",
       "    .dataframe tbody tr th {\n",
       "        vertical-align: top;\n",
       "    }\n",
       "\n",
       "    .dataframe thead th {\n",
       "        text-align: right;\n",
       "    }\n",
       "</style>\n",
       "<table border=\"1\" class=\"dataframe\">\n",
       "  <thead>\n",
       "    <tr style=\"text-align: right;\">\n",
       "      <th></th>\n",
       "      <th>source</th>\n",
       "      <th>year</th>\n",
       "      <th>Mean_temp</th>\n",
       "    </tr>\n",
       "  </thead>\n",
       "  <tbody>\n",
       "    <tr>\n",
       "      <td>0</td>\n",
       "      <td>GCAG</td>\n",
       "      <td>2016</td>\n",
       "      <td>[0.7569826920633886]</td>\n",
       "    </tr>\n",
       "    <tr>\n",
       "      <td>1</td>\n",
       "      <td>GISTEMP</td>\n",
       "      <td>2016</td>\n",
       "      <td>[0.768048508175923]</td>\n",
       "    </tr>\n",
       "  </tbody>\n",
       "</table>\n",
       "</div>"
      ],
      "text/plain": [
       "    source  year             Mean_temp\n",
       "0     GCAG  2016  [0.7569826920633886]\n",
       "1  GISTEMP  2016   [0.768048508175923]"
      ]
     },
     "execution_count": 29,
     "metadata": {},
     "output_type": "execute_result"
    }
   ],
   "source": [
    "res_df=pre_temp(2016)\n",
    "res_df"
   ]
  },
  {
   "cell_type": "code",
   "execution_count": 30,
   "metadata": {},
   "outputs": [
    {
     "data": {
      "text/html": [
       "<div>\n",
       "<style scoped>\n",
       "    .dataframe tbody tr th:only-of-type {\n",
       "        vertical-align: middle;\n",
       "    }\n",
       "\n",
       "    .dataframe tbody tr th {\n",
       "        vertical-align: top;\n",
       "    }\n",
       "\n",
       "    .dataframe thead th {\n",
       "        text-align: right;\n",
       "    }\n",
       "</style>\n",
       "<table border=\"1\" class=\"dataframe\">\n",
       "  <thead>\n",
       "    <tr style=\"text-align: right;\">\n",
       "      <th></th>\n",
       "      <th>source</th>\n",
       "      <th>year</th>\n",
       "      <th>Mean_temp</th>\n",
       "    </tr>\n",
       "  </thead>\n",
       "  <tbody>\n",
       "    <tr>\n",
       "      <td>0</td>\n",
       "      <td>GCAG</td>\n",
       "      <td>2020</td>\n",
       "      <td>[0.8279214515362696]</td>\n",
       "    </tr>\n",
       "    <tr>\n",
       "      <td>1</td>\n",
       "      <td>GISTEMP</td>\n",
       "      <td>2020</td>\n",
       "      <td>[0.8430242495647349]</td>\n",
       "    </tr>\n",
       "  </tbody>\n",
       "</table>\n",
       "</div>"
      ],
      "text/plain": [
       "    source  year             Mean_temp\n",
       "0     GCAG  2020  [0.8279214515362696]\n",
       "1  GISTEMP  2020  [0.8430242495647349]"
      ]
     },
     "execution_count": 30,
     "metadata": {},
     "output_type": "execute_result"
    }
   ],
   "source": [
    "res_df=pre_temp(2020)\n",
    "res_df"
   ]
  },
  {
   "cell_type": "code",
   "execution_count": 31,
   "metadata": {},
   "outputs": [
    {
     "data": {
      "text/html": [
       "<div>\n",
       "<style scoped>\n",
       "    .dataframe tbody tr th:only-of-type {\n",
       "        vertical-align: middle;\n",
       "    }\n",
       "\n",
       "    .dataframe tbody tr th {\n",
       "        vertical-align: top;\n",
       "    }\n",
       "\n",
       "    .dataframe thead th {\n",
       "        text-align: right;\n",
       "    }\n",
       "</style>\n",
       "<table border=\"1\" class=\"dataframe\">\n",
       "  <thead>\n",
       "    <tr style=\"text-align: right;\">\n",
       "      <th></th>\n",
       "      <th>source</th>\n",
       "      <th>year</th>\n",
       "      <th>Mean_temp</th>\n",
       "    </tr>\n",
       "  </thead>\n",
       "  <tbody>\n",
       "    <tr>\n",
       "      <td>0</td>\n",
       "      <td>GCAG</td>\n",
       "      <td>2030</td>\n",
       "      <td>[1.0160516736896739]</td>\n",
       "    </tr>\n",
       "    <tr>\n",
       "      <td>1</td>\n",
       "      <td>GISTEMP</td>\n",
       "      <td>2030</td>\n",
       "      <td>[1.0419955967388432]</td>\n",
       "    </tr>\n",
       "  </tbody>\n",
       "</table>\n",
       "</div>"
      ],
      "text/plain": [
       "    source  year             Mean_temp\n",
       "0     GCAG  2030  [1.0160516736896739]\n",
       "1  GISTEMP  2030  [1.0419955967388432]"
      ]
     },
     "execution_count": 31,
     "metadata": {},
     "output_type": "execute_result"
    }
   ],
   "source": [
    "res_df=pre_temp(2030)\n",
    "res_df"
   ]
  }
 ],
 "metadata": {
  "kernelspec": {
   "display_name": "Python 3",
   "language": "python",
   "name": "python3"
  },
  "language_info": {
   "codemirror_mode": {
    "name": "ipython",
    "version": 3
   },
   "file_extension": ".py",
   "mimetype": "text/x-python",
   "name": "python",
   "nbconvert_exporter": "python",
   "pygments_lexer": "ipython3",
   "version": "3.7.4"
  }
 },
 "nbformat": 4,
 "nbformat_minor": 2
}
